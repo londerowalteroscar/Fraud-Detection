{
 "cells": [
  {
   "cell_type": "markdown",
   "metadata": {},
   "source": [
    "<h1 style=\"font-family: 'Courier New', Courier, monospace; color: lime; text-shadow: 2px 2px black; text-align: center;\">\n",
    "    Credit Card Fraud Detection\n",
    "</h1>\n"
   ]
  },
  {
   "cell_type": "markdown",
   "metadata": {},
   "source": [
    "<div style=\"text-align: center;\">\n",
    "    <img src=\"https://cdn.corporatefinanceinstitute.com/assets/online-payment-companies-1024x683.jpeg\" alt=\"Online Payment Image\" width=\"800\"/>\n",
    "</div>\n"
   ]
  },
  {
   "cell_type": "markdown",
   "metadata": {},
   "source": [
    "<h3 style=\"font-family: 'Courier New', Courier, monospace; color: lime; text-shadow: 1px 1px black;\">\n",
    "    Enunciado del problema:\n",
    "</h3>\n",
    "\n",
    "<p>\n",
    "    Los fraudes con tarjetas de crédito son casos en los que se utilizan las tarjetas de crédito de otra persona para realizar transacciones financieras sin la información del titular de la tarjeta. Las tarjetas de crédito se pusieron a disposición de las personas para aumentar su poder adquisitivo; se trata de un acuerdo con su banco que permite al usuario utilizar el dinero prestado por el banco a cambio de la devolución de este dinero prestado en la fecha de vencimiento o incurrir en cargos por intereses. Con el aumento del comercio electrónico y el reciente auge de las plataformas OTT durante la pandemia del coronavirus, el uso de tarjetas de crédito ha aumentado exponencialmente junto con otros procesos de pago. Como todas las cosas en la naturaleza son binarias, los casos de fraudes con tarjetas de crédito también han alcanzado cifras elevadas. La economía mundial paga el precio de más de 24 mil millones de dólares al año debido a estos fraudes. Por lo tanto, se vuelve esencial resolver este problema y, como resultado, han nacido muchas empresas emergentes en esta industria de 30 mil millones de dólares. Por lo tanto, es necesario crear modelos automatizados para un enunciado de problema tan creciente y la IA - ML es la clave para ello.\n",
    "</p>\n",
    "\n",
    "<h3 style=\"font-family: 'Courier New', Courier, monospace; color: lime; text-shadow: 1px 1px black;\">\n",
    "    Objetivo:\n",
    "</h3>\n",
    "\n",
    "<p>\n",
    "    - Clasificar si una transacción con tarjeta de crédito es fraudulenta o genuina y manejar conjuntos de datos desequilibrados.<br>\n",
    "    - Es un problema de <strong>clasificación binaria</strong> con datos altamente desequilibrados.\n",
    "</p>\n",
    "\n"
   ]
  }
 ],
 "metadata": {
  "kernelspec": {
   "display_name": "Python 3",
   "language": "python",
   "name": "python3"
  },
  "language_info": {
   "codemirror_mode": {
    "name": "ipython",
    "version": 3
   },
   "file_extension": ".py",
   "mimetype": "text/x-python",
   "name": "python",
   "nbconvert_exporter": "python",
   "pygments_lexer": "ipython3",
   "version": "3.12.1"
  }
 },
 "nbformat": 4,
 "nbformat_minor": 2
}
